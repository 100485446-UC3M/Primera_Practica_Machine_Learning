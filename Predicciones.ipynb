{
  "nbformat": 4,
  "nbformat_minor": 0,
  "metadata": {
    "colab": {
      "provenance": [],
      "authorship_tag": "ABX9TyNQqfF/W/LLD1hSK/nM7MQ4",
      "include_colab_link": true
    },
    "kernelspec": {
      "name": "python3",
      "display_name": "Python 3"
    },
    "language_info": {
      "name": "python"
    }
  },
  "cells": [
    {
      "cell_type": "markdown",
      "metadata": {
        "id": "view-in-github",
        "colab_type": "text"
      },
      "source": [
        "<a href=\"https://colab.research.google.com/github/100485446-UC3M/Primera_Practica_Machine_Learning/blob/main/Predicciones.ipynb\" target=\"_parent\"><img src=\"https://colab.research.google.com/assets/colab-badge.svg\" alt=\"Open In Colab\"/></a>"
      ]
    },
    {
      "cell_type": "markdown",
      "source": [
        "# Predicciones Práctica 1\n",
        "## Esteban Gómez Buitrago 100485446\n",
        "## Nicolás Alejandro Cuesta García 100495966"
      ],
      "metadata": {
        "id": "lbg_8VMG0PAV"
      }
    }
  ]
}