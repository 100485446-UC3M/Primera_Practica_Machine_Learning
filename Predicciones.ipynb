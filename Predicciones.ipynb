{
  "nbformat": 4,
  "nbformat_minor": 0,
  "metadata": {
    "colab": {
      "provenance": [],
      "authorship_tag": "ABX9TyNCQRIfn2sxFO3mzihiGvyS",
      "include_colab_link": true
    },
    "kernelspec": {
      "name": "python3",
      "display_name": "Python 3"
    },
    "language_info": {
      "name": "python"
    }
  },
  "cells": [
    {
      "cell_type": "markdown",
      "metadata": {
        "id": "view-in-github",
        "colab_type": "text"
      },
      "source": [
        "<a href=\"https://colab.research.google.com/github/100485446-UC3M/Primera_Practica_Machine_Learning/blob/main/Predicciones.ipynb\" target=\"_parent\"><img src=\"https://colab.research.google.com/assets/colab-badge.svg\" alt=\"Open In Colab\"/></a>"
      ]
    },
    {
      "cell_type": "markdown",
      "source": [
        "# Predicciones Práctica 1\n",
        "## Esteban Gómez Buitrago 100485446\n",
        "## Nicolás Alejandro Cuesta García 100495966"
      ],
      "metadata": {
        "id": "lbg_8VMG0PAV"
      }
    },
    {
      "cell_type": "markdown",
      "source": [
        "## Análisis Exploratorio de Datos\n",
        "\n",
        "PAra realizar este projecto utilizamos los set de datos \"attrition_availabledata_10.csv\" y\"attrition_competition_10.csv\". Decidimos utilizar estos, después de realizar la suma de los últimos dos digitos del NIA 100485446 (4 + 6 = 10).\n",
        "\n",
        "Al analizar los datos, la primera conclusión a la que se puede llegar es que este es un problema de clasificación. Se está realizando un estudio en el cual a través de algunas variables se va a definir si la clase (en este caso, el attributo \"Attrition\") es \"Yes\" o \"No\".\n",
        "\n",
        "Para encontrar ciertos datos importantes para continuar con el análisis, será necesario utilizar ciertas funciones de python. El código y los resultados están descritos a continuación:"
      ],
      "metadata": {
        "id": "hDV9Ynmu88sE"
      }
    },
    {
      "cell_type": "code",
      "source": [
        "#Las librerías necesarias son importadas\n",
        "import numpy as np\n",
        "import pandas as pd\n",
        "import matplotlib.pyplot as plt\n",
        "import seaborn as sns"
      ],
      "metadata": {
        "id": "IsTk5FfLIHmo"
      },
      "execution_count": null,
      "outputs": []
    },
    {
      "cell_type": "code",
      "source": [
        "#Se crea una semilla para poder replicar los resultado y se leen los datos\n",
        "np.random.seed(100495966)\n",
        "data = pd.read_csv('attrition_availabledata_10.csv')\n",
        "\n",
        "#Para chequear que sea el set de datos correcto\n",
        "#print(data.head())\n",
        "\n",
        "print(f\"Número de variables (columnas): {data.shape[1] - 1}\")\n",
        "print(f\"Número de instancias (filas): {data.shape[0]}\")\n",
        "print(\"\\nLa cantidad de datos vacíos por columna es: \")\n",
        "valoresvacios = data.isnull().sum()\n",
        "print(\"Valores vacíos por columna:\\n\", valoresvacios.to_dict())\n",
        "print(f\"Número total de valores vacíos: {data.isnull().sum().sum()}\")\n",
        "\n",
        "#Las columnas de tipo object son las categóricas\n",
        "categorical_cols = data.select_dtypes(include=['object'])\n",
        "unique_counts = categorical_cols.nunique()\n",
        "print(\"\\nNúmero de categorías por variable categórica:\\n\", unique_counts.to_dict())\n",
        "constant_columns = []\n",
        "for column, count in unique_counts.items():\n",
        "  if count == 1:\n",
        "    constant_columns.append(column)\n",
        "print(\"\\nColumnas constantes:\\n\", constant_columns)\n",
        "id_cols = data.columns[data.nunique() == data.shape[0]]\n",
        "print(\"Columnas de ID:\\n\", id_cols)\n",
        "\n",
        "num_yes = data[\"Attrition\"].eq(\"Yes\").sum()\n",
        "num_no = data[\"Attrition\"].eq(\"No\").sum()\n",
        "Total_attrition = num_no + num_yes\n",
        "if Total_attrition == data.shape[0]:\n",
        "  print(f\"\\nNúmero de empleados que dejaron la empresa (Attrition = Yes): {num_yes}\")\n",
        "  print(f\"Número de empleados que no dejaron la empresa (Attrition = No): {num_no}\")\n",
        "else:\n",
        "  print(\"Error en el número de instancias, hay valores no reconocidos\")\n"
      ],
      "metadata": {
        "colab": {
          "base_uri": "https://localhost:8080/"
        },
        "id": "M_n0KniMG_NA",
        "outputId": "97632e13-b850-4fed-c3ce-113b8896470c"
      },
      "execution_count": 34,
      "outputs": [
        {
          "output_type": "stream",
          "name": "stdout",
          "text": [
            "Número de variables (columnas): 30\n",
            "Número de instancias (filas): 2940\n",
            "\n",
            "La cantidad de datos vacíos por columna es: \n",
            "Valores vacíos por columna:\n",
            " {'hrs': 0, 'absences': 0, 'JobInvolvement': 0, 'PerformanceRating': 0, 'EnvironmentSatisfaction': 15, 'JobSatisfaction': 12, 'WorkLifeBalance': 29, 'Age': 0, 'BusinessTravel': 0, 'Department': 0, 'DistanceFromHome': 0, 'Education': 0, 'EducationField': 0, 'EmployeeCount': 0, 'EmployeeID': 0, 'Gender': 0, 'JobLevel': 0, 'JobRole': 0, 'MaritalStatus': 0, 'MonthlyIncome': 0, 'NumCompaniesWorked': 17, 'Over18': 0, 'PercentSalaryHike': 0, 'StandardHours': 0, 'StockOptionLevel': 0, 'TotalWorkingYears': 5, 'TrainingTimesLastYear': 0, 'YearsAtCompany': 0, 'YearsSinceLastPromotion': 0, 'YearsWithCurrManager': 0, 'Attrition': 0}\n",
            "Número total de valores vacíos: 78\n",
            "\n",
            "Número de categorías por variable categórica:\n",
            " {'BusinessTravel': 3, 'Department': 3, 'EducationField': 6, 'Gender': 2, 'JobRole': 9, 'MaritalStatus': 3, 'Over18': 1, 'Attrition': 2}\n",
            "\n",
            "Columnas constantes:\n",
            " ['Over18']\n",
            "Columnas de ID:\n",
            " Index(['EmployeeID'], dtype='object')\n",
            "\n",
            "Número de empleados que dejaron la empresa (Attrition = Yes): 474\n",
            "Número de empleados que no dejaron la empresa (Attrition = No): 2466\n"
          ]
        }
      ]
    },
    {
      "cell_type": "markdown",
      "source": [
        "El estudio será realizado con 30 variables y 2940 instancias distintas. Es importante resaltar que al número de variables se le resto la variable \"Attrition\" ya que esta es nuestra variable de calisifcación (objetivo). Después de analizar las variable individualmente encontramos que tenemos variables catégoricas, ordinales y númericas.\n",
        "\n",
        "Las variabes **catégoricas** son (7):   \n",
        "\n",
        "*   BusinessTravel\n",
        "*   Department\n",
        "*   EducationField\n",
        "*   Gender\n",
        "*   JobRole\n",
        "*   MaritalStatus\n",
        "*   Over18\n",
        "\n",
        "Las **númericas** incluyen (15):  \n",
        "\n",
        "*   hrs\n",
        "*   absences\n",
        "*   Age\n",
        "*   DistanceFromHome\n",
        "*   MonthlyIncome\n",
        "*   PercentSalaryHike\n",
        "*   TotalWorkingYears\n",
        "*   TrainingTimesLastYear\n",
        "*   NumCompaniesWorked\n",
        "*   EmployeeCount\n",
        "*   EmployeeID\n",
        "*   StandardHours\n",
        "*   YearsAtCompany\n",
        "*   YearsSinceLastPromotion\n",
        "*   YearsWithCurrManager\n",
        "\n",
        "Finalmente, entre las **ordinales** están (8):\n",
        "\n",
        "*   JobInvolvement\n",
        "*   JobLevel\n",
        "*   Education\n",
        "*   PerformanceRating\n",
        "*   EnvironmentalSatisfaction\n",
        "*   JobSatisfaction\n",
        "*   WorkLifeBalance\n",
        "*   StockOptionLevel\n",
        "\n",
        "Para definir si una variable es de **alta cardinalidad** o no vamos a tomar el límite de **5 categorías**. Tomando este límite podemos ver que **existen 2 variables que tendrían alta cardinalidad**: EducationField (6) y JobRole (9). El resto de variables categóricas tienen 3 o menos categorías cada una, por lo que no tienen una cardinalidad alta.\n",
        "\n",
        "Asimismo, es pertinente analizar si tenemos variables que tengan el mismo valor en todas las instancia (**columnas constantes**).  Como se puede evidenciar en el código anterior, exite una variable \"Over18\", que siempre tiene el mismo valor (\"Y\"). De esta forma se puede concluir que **\"Over18\" es una columna constante** y no le va a proporciona información útil al modelo, se deberá tratar con ella en el preproceso.\n",
        "\n",
        "Hay que buscar **columnas de ID** que son columnas que tienen un valor diferente para cada instancia, y pueden servir como identificadores. Con el código encontramos que tenemos una columna que cumple con esta descripción. La variable **\"EmployeeID\" es una columna de ID**.\n",
        "\n",
        "Entre todas estas instancias tenemos **78 valores vacíos** dividos en 5 variables: WorkLifeBalance (29),  NumCompaniesWorked: (17), EnvironmentSatisfaction (15), Job Satisfaction (12), y TotalWorkingYears (5). Esto es un factor a tener en cuenta a la hora de realizar el preproceso.\n",
        "\n",
        "Cómo ya se describió antes, este es un problema de **clasificación**, para  finalizar, es pertinente analizar si está balanceado. La variable \"*Attrition*\" es nuestro clasificador, esta puede tener el valor de \"Yes\" o  \"No\". Para saber si está balanceado se debe ver cuantas intancias existen con cada valor. Como se puede ver en el código expuesto previamente, en este caso exiten 474 instancias que tienen en esta variable el valor de  \"Yes\" y 2466 que tienen \"No\". Con esto se puede concluir que el problema **NO está balanceado**, y se tendrá que utilizar una técnica de balanceo durante el preproceso.\n"
      ],
      "metadata": {
        "id": "2N6pLHgoN4S4"
      }
    }
  ]
}